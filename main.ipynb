{
 "cells": [
  {
   "cell_type": "code",
   "execution_count": 1,
   "metadata": {},
   "outputs": [
    {
     "name": "stderr",
     "output_type": "stream",
     "text": [
      "\n",
      "KeyboardInterrupt\n",
      "\n"
     ]
    }
   ],
   "source": [
    "# # creating a large table\n",
    "# import sqlite3 as sql\n",
    "\n",
    "# conn = sql.connect('test.db')\n",
    "# c = conn.cursor()\n",
    "# c.execute('CREATE TABLE IF NOT EXISTS test (id INTEGER PRIMARY KEY, name TEXT, age INTEGER, address TEXT, salary REAL)')\n",
    "# # 100000000 4.7G (4m 41s)\n",
    "# for i in range(100000):\n",
    "# \tc.execute('INSERT INTO test VALUES (?, ?, ?, ?, ?)', (i, 'name'+str(i), i, 'address'+str(i), i*1000))\n",
    "# conn.commit()\n",
    "# conn.close()\n"
   ]
  },
  {
   "cell_type": "code",
   "execution_count": 2,
   "metadata": {},
   "outputs": [],
   "source": [
    "from bs4 import BeautifulSoup\n",
    "htmlFile = open(\"course_directory_winter.html\",\"r\",encoding=\"utf8\")\n",
    "html = htmlFile.read()\n"
   ]
  },
  {
   "cell_type": "code",
   "execution_count": 3,
   "metadata": {},
   "outputs": [],
   "source": [
    "# parsing the html \n",
    "# dumping the data into a txt file\n",
    "\n",
    "soup = BeautifulSoup(html, 'html.parser')\n",
    "soup.prettify()\n",
    "tds = soup.find_all('td')\n",
    "for td in tds:\n",
    "\tif td.text.strip() !=\"\\n\":\n",
    "\t\ttextFile.write(td.get_text(separator=\",\")+\"\\n\")\n",
    "\n",
    "\n"
   ]
  },
  {
   "cell_type": "code",
   "execution_count": 17,
   "metadata": {},
   "outputs": [],
   "source": [
    "textFile = open(\"course_directory_winter.txt\",\"r\",encoding=\"utf8\")\n",
    "lines = textFile.readlines()\n",
    "\n"
   ]
  },
  {
   "cell_type": "code",
   "execution_count": 18,
   "metadata": {},
   "outputs": [],
   "source": [
    "# first three letters of a course code are characters and the rest are numbers\n",
    "def isCourseCode(string):\n",
    "\tstring = string.replace(\" \",\"\")\n",
    "\tif len(string) == 6 and string[:3].isalpha() and string[3:].isdigit():\n",
    "\t\treturn True\n",
    "\t\n",
    "\treturn False"
   ]
  },
  {
   "cell_type": "code",
   "execution_count": 19,
   "metadata": {},
   "outputs": [
    {
     "name": "stdout",
     "output_type": "stream",
     "text": [
      "283 Course found!\n",
      "['COM101', 'FAC331', 'MGT136', 'MKT341', 'MKT611', 'MKT631', 'FAC641', 'TOD522', 'MGT121', 'ECO340', 'FAC104', 'FAC632', 'MGT624', 'HRT571', 'FAC244', 'EFB101', 'TOD221', 'TOD526', 'EFB203', 'HRT612', 'EFB502', 'FAC124', 'COM100', 'COM102', 'EFB508', 'MGT562', 'FAC332', 'TOD524', 'MGT542', 'COM502', 'MGT533', 'MGT543', 'ECO543', 'MAT142', 'COM109', 'COM701', 'FAC217', 'ECO520', 'MGT311', 'TOD533', 'MGT536', 'HRT632', 'INS515', 'ECO620', 'MKT103', 'STA101', 'MGT508', 'EFB608', 'FAC215', 'STA100', 'ENV555', 'FAC637', 'ECO502', 'HRT561', 'EFB609', 'TOD323', 'MGT545', 'ENV333', 'FAC533', 'MKT671', 'ECO213', 'HRT512', 'DES201', 'DES103', 'ENV533', 'DES202', 'DES203', 'COM212', 'TOD326', 'TOD210', 'TOD322', 'ECO504', 'ECO204', 'EFB602', 'MKT321', 'TOD331', 'DES301', 'ECO521', 'DES232', 'ENV591', 'FAC335', 'FAC121', 'MGT341', 'FAC114', 'COM114', 'HRT542', 'FAC631', 'FAC213', 'FAC241', 'MGT112', 'ECO330', 'MKT641', 'MKT652', 'MKT653', 'MGT622', 'MGT625', 'HRT699', 'MGT627', 'ECO110', 'FAC245', 'MGT236', 'FAC223', 'EFB202', 'MGT642', 'INT574', 'FAC216', 'HRT502', 'MKT312', 'TOD503', 'ECO501', 'PRJ679', 'FAC125', 'MGT238', 'INT572', 'HRT622', 'HRT623', 'HRT212', 'INS521', 'EFB509', 'FAC635', 'MKT642', 'FAC133', 'DES101', 'ECO540', 'TOD212', 'DES102', 'ECO699', 'TOD310', 'TOD205', 'ECO320', 'TOD499', 'EFB499', 'FAC499', 'MGT499', 'MKT499', 'BPS103', 'BIO104', 'HST205', 'MUS101', 'MUS103', 'BIO790', 'HST210', 'PHY122', 'BIO 250', 'PHY797', 'PHY211', 'SPS260', 'SPS203', 'PHY212', 'SAN102', 'PSY215', 'SPS205', 'LIT210', 'PSY272', 'HST103', 'SPS560', 'BIO204', 'PHL150', 'CHY101', 'PHI175', 'RES101', 'RES501', 'BIO105', 'JAP112', 'BIO506', 'PSY321', 'SPS 301', 'SPS263', 'PHY315', 'STA 202', 'FRE112', 'PSY340', 'SAN202', 'PVA 171', 'PVA 151', 'BIO507', 'PSY205', 'IHS 801', 'IHS 802', 'IHS 810', 'JAP212', 'SPA112', 'BIO 107', 'BIO260', 'SPS500', 'BIO210', 'PHL 202', 'PSY512', 'PHL401', 'BIO 791', 'FRE212', 'GER112', 'PER102', 'LIT205', 'PHY316', 'PVA128', 'PVA129', 'PVA101', 'PVA222', 'PVA224', 'PVA203', 'PVA 225', 'MAT 334', 'PHY715', 'PSY351', 'LIT230', 'SPS505', 'IHS502', 'HST499', 'PHL499', 'PSY499', 'SPS499', 'CSC499', 'PHY499', 'BIO548', 'BIO201', 'BIO220', 'BIO601', 'BIO103', 'BIO502', 'SAS699', 'HST115', 'CHE201', 'ENR508', 'CSE108', 'CSE517', 'CSE519', 'MEC205', 'MEC206', 'CSE200', 'MAT277', 'ENR200', 'CSE206', 'ENR102', 'ENR510', 'MEC303', 'MEC304', 'CHE313', 'MAT248', 'MEC300', 'CHE314', 'CSE342', 'MEC514', 'CSE533', 'MAT396', 'CSE537', 'CHE306', 'ENR306', 'MAT596', 'CSE543', 'CHE400', 'CHE301', 'CSE541', 'CHE204', 'ENR501', 'CHE221', 'CSE511', 'CSE250', 'CSE523', 'ENR506', 'CSE521', 'MAT502', 'CSE542', 'THE674', 'THE675', 'THE676', 'THE677', 'THE699', 'CHE574', 'CSP514', 'CHE851', 'ENR852', 'ENR100', 'ENR101', 'MEC405', 'MEC503', 'ENR704', 'ENR705', 'FDP101', 'FDP102', 'FDP103', 'FDP104', 'VOL100']\n"
     ]
    }
   ],
   "source": [
    "textFile = open(\"course_directory_winter.txt\",\"r\",encoding=\"utf8\")\n",
    "courses = []\n",
    "\n",
    "for line in lines:\n",
    "\tif isCourseCode(line.split(\",\")[0]):\n",
    "\t\tcourses.append(line.split(\",\")[0])\n",
    "# monsoon 329/331 course found\n",
    "# winter 283/282\n",
    "print(len(courses), \"Course found!\")\n",
    "print(courses)\n"
   ]
  },
  {
   "cell_type": "code",
   "execution_count": 20,
   "metadata": {},
   "outputs": [],
   "source": [
    "# jsondict= []\n",
    "courseArray=[]\n",
    "course = \"\"\n",
    "flag = True\n",
    "for line in lines:\n",
    "\tline = line.replace(\"\\t\", \"\")\n",
    "\tif isCourseCode(line.split(\",\")[0]):\n",
    "\t\t# courseArray.append(line.split(\",\")[0])\n",
    "\t\tcourseArray.append(course)\n",
    "\t\tcourse= \"\"\n",
    "\tcourse+=line\n",
    "# print(courseArray)\n",
    "\n",
    "\n",
    "\n"
   ]
  },
  {
   "cell_type": "code",
   "execution_count": 21,
   "metadata": {},
   "outputs": [],
   "source": [
    "courseArray = list(filter(lambda a: a.replace(\" \",\"\")!=\"\",courseArray))\n",
    "def detectType(s:str):\n",
    "\tDays = [\"Mon\", \"Tue\",\"Wed\",\"Thu\",\"Fri\",\"Sat\",\"Sun\"]\n",
    "\tif s == \"Section\":\n",
    "\t\treturn \"Section\"\n",
    "\telif s in Days:\n",
    "\t\treturn \"Day\"\n",
    "\telif \"-\" in s:\n",
    "\t\treturn \"Date\"\n",
    "\telif \":\" in s:\n",
    "\t\treturn \"Time\"\n",
    "\telif s == \"to\":\n",
    "\t\treturn \"To\"\n",
    "\telif s.isdigit():\n",
    "\t\treturn \"Section No.\"\n",
    "\telse:\n",
    "\t\treturn \"Useless\""
   ]
  },
  {
   "cell_type": "code",
   "execution_count": 38,
   "metadata": {},
   "outputs": [],
   "source": [
    "import re\n",
    "lines = []\n",
    "Code = ''\n",
    "Level = ''\n",
    "Name = ''\n",
    "isBiSem = ''\n",
    "Credits = ''\n",
    "Faculties = ''\n",
    "Semester = ''\n",
    "Prerequisite = ''\n",
    "Description = ''\n",
    "Sections = {}\n",
    "SectionDict = {}\n",
    "DayArray = [[],[]]\n",
    "TimeArray = []\n",
    "DateArray = []\n",
    "activeSection = ''\n",
    "activeDay = ''\n",
    "\n",
    "oneCourseJson = {};\n",
    "finalJson = []\n",
    "for course in courseArray:\n",
    "\tCode = ''\n",
    "\tLevel = ''\n",
    "\tName = ''\n",
    "\tisBiSem = ''\n",
    "\tCredits = ''\n",
    "\tFaculties = ''\n",
    "\tSemester = ''\n",
    "\tPrerequisite = ''\n",
    "\tDescription = ''\n",
    "\tSections = {}\n",
    "\tSectionDict = {}\n",
    "\tDayArray = [[],[]]\n",
    "\tTimeArray = []\n",
    "\tDateArray = []\n",
    "\tactiveSection = ''\n",
    "\tactiveDay = ''\n",
    "\tlines = course.split(\"\\n\")\n",
    "\tlines = list(filter(lambda a: a.replace(\" \",\"\")!=\"\",    lines))\n",
    "\n",
    "\t# print(lines)\n",
    "\tCode = lines[0].split(\",\")[0]\n",
    "\tLevel = lines[0].split(\",\")[1]\n",
    "\tLevel = Level.strip(\" \").strip(\"[\").strip(\"]\")\n",
    "\tName = lines[1]\n",
    "\tCredits = lines[2]\n",
    "\tFaculties = lines[3].split(\",\")\n",
    "\tSemester = lines[4]\n",
    "\tif Faculties[0] == \"Not added\":\n",
    "\t\tcontinue\n",
    "\tif lines[5].split(\",\")[0] == \"PREQ_OR\":\n",
    "\t\tPrerequisite = lines[5].split(\",\")[1]\n",
    "\t\tn = 5\n",
    "\n",
    "\t\t\n",
    "\telse:\n",
    "\t\tPrerequisite = None\n",
    "\t\tn = 4\n",
    "\tDescription = lines[n+1]\n",
    "\tfor i in lines[n+2:]:\n",
    "\t\ti = i.strip(\",\")\n",
    "\t\ti = i.replace(\" \",\",\")\n",
    "\t\ti = i.split(\",\")\n",
    "\n",
    "\t\ti = list(filter(lambda a: a!=\"Quarter]\",i))\n",
    "\t\ti = list(filter(lambda a: a!=\"[First\",i))\n",
    "\t\ti = list(filter(lambda a: a!=\"[Second\",i))\n",
    "\t\ti = list(filter(lambda a: len(a )!=0,i))\n",
    "\t\ti = list(map(lambda a: a.replace(\"[\",\"\"),i))\n",
    "\t\ti = list(map(lambda a: a.replace(\"]\",\"\"),i))\n",
    "\t\ti = list(map(lambda a: a.strip(\",\"),i))\n",
    "\t\t# print(i)\n",
    "\t\ttry: \n",
    "\t\t\tfor j in i:\n",
    "\t\t\t\ttypeOfJ = detectType(j)\n",
    "\t\t\t\t# print(j,typeOfJ)\n",
    "\t\t\t\tif typeOfJ == \"Section No.\":\n",
    "\t\t\t\t\tactiveSection = j\n",
    "\t\t\t\t\tSections[j] = {}\n",
    "\t\t\t\t\n",
    "\t\t\t\telif typeOfJ == \"Day\":\n",
    "\t\t\t\t\tactiveDay = j\n",
    "\t\t\t\t\tSections[activeSection][activeDay] = [[],[]]\n",
    "\t\t\t\telif typeOfJ == \"Time\":\n",
    "\t\t\t\t\tSections[activeSection][activeDay][0].append(j)\n",
    "\t\t\t\telif typeOfJ == \"Date\":\n",
    "\t\t\t\t\tSections[activeSection][activeDay][1].append(j)\n",
    "\t\t\t\telif typeOfJ == \"To\":\n",
    "\t\t\t\t\tpass\n",
    "\t\t\t\telif typeOfJ == \"Useless\":\n",
    "\t\t\t\t\tpass\n",
    "\t\texcept:\n",
    "\t\t\tpass\n",
    "\t\t   \n",
    "\t# print(Sections)\n",
    "\toneCourseJson = {\n",
    "\t\t\"Code\":Code,\n",
    "\t\t\"Level\":Level,\n",
    "\t\t\"Name\":Name,\n",
    "\t\t\"Credits\":Credits,\n",
    "\t\t\"Faculties\":Faculties,\n",
    "\t\t\"Semester\":Semester,\n",
    "\t\t\"Prerequisite\":Prerequisite,\n",
    "\t\t\"Description\":Description,\n",
    "\t\t\"Sections\":Sections\n",
    "\t}\n",
    "\tfinalJson.append(oneCourseJson)\n",
    "\n",
    "import json\n",
    "with open('winter.json', 'w') as outfile:\n",
    "\tjson.dump(finalJson, outfile, indent=4)\n",
    "\n",
    "\n",
    "\n",
    "\t\n",
    "\n",
    "\n",
    "\t# print(lines[5], lines[6],12)\n",
    "\t# print(Code, Level, Name, Credits, Faculties,Semester, Prerequisite, Description)"
   ]
  }
 ],
 "metadata": {
  "kernelspec": {
   "display_name": "Python 3.10.8 64-bit (microsoft store)",
   "language": "python",
   "name": "python3"
  },
  "language_info": {
   "codemirror_mode": {
    "name": "ipython",
    "version": 3
   },
   "file_extension": ".py",
   "mimetype": "text/x-python",
   "name": "python",
   "nbconvert_exporter": "python",
   "pygments_lexer": "ipython3",
   "version": "3.10.10"
  },
  "orig_nbformat": 4,
  "vscode": {
   "interpreter": {
    "hash": "65a440aeac0c89e2af7569e0aa53b64434c4b69eb6285e2b0d174d9bca190d54"
   }
  }
 },
 "nbformat": 4,
 "nbformat_minor": 2
}
