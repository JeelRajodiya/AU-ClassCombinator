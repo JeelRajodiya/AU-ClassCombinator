{
 "cells": [
  {
   "cell_type": "code",
   "execution_count": 1,
   "metadata": {},
   "outputs": [
    {
     "name": "stderr",
     "output_type": "stream",
     "text": [
      "\n",
      "KeyboardInterrupt\n",
      "\n"
     ]
    }
   ],
   "source": [
    "# # creating a large table\n",
    "# import sqlite3 as sql\n",
    "\n",
    "# conn = sql.connect('test.db')\n",
    "# c = conn.cursor()\n",
    "# c.execute('CREATE TABLE IF NOT EXISTS test (id INTEGER PRIMARY KEY, name TEXT, age INTEGER, address TEXT, salary REAL)')\n",
    "# # 100000000 4.7G (4m 41s)\n",
    "# for i in range(100000):\n",
    "# \tc.execute('INSERT INTO test VALUES (?, ?, ?, ?, ?)', (i, 'name'+str(i), i, 'address'+str(i), i*1000))\n",
    "# conn.commit()\n",
    "# conn.close()\n"
   ]
  },
  {
   "cell_type": "code",
   "execution_count": 2,
   "metadata": {},
   "outputs": [],
   "source": [
    "from bs4 import BeautifulSoup\n",
    "htmlFile = open(\"course _directory.html\",\"r\",encoding=\"utf8\")\n",
    "html = htmlFile.read()\n"
   ]
  },
  {
   "cell_type": "code",
   "execution_count": 3,
   "metadata": {},
   "outputs": [],
   "source": [
    "# parsing the html \n",
    "# dumping the data into a txt file\n",
    "\n",
    "soup = BeautifulSoup(html, 'html.parser')\n",
    "soup.prettify()\n",
    "tds = soup.find_all('td')\n",
    "textFile = open(\"course_directory.txt\",\"a\",encoding=\"utf8\")\n",
    "for td in tds:\n",
    "\tif td.text.strip() !=\"\\n\":\n",
    "\t\ttextFile.write(td.get_text(separator=\",\")+\"\\n\")\n",
    "\n",
    "\n"
   ]
  },
  {
   "cell_type": "code",
   "execution_count": 2,
   "metadata": {},
   "outputs": [],
   "source": [
    "# first three letters of a course code are characters and the rest are numbers\n",
    "def isCourseCode(string):\n",
    "\tif len(string) == 6 and string[:3].isalpha() and string[3:].isdigit():\n",
    "\t\treturn True\n",
    "\n",
    "\treturn False"
   ]
  },
  {
   "cell_type": "code",
   "execution_count": 5,
   "metadata": {},
   "outputs": [
    {
     "name": "stdout",
     "output_type": "stream",
     "text": [
      "['COM101', 'ECO100', 'FAC331', 'MGT136', 'MKT341', 'MGT105', 'COM506', 'COM115', 'MGT541', 'MKT631', 'MKT651', 'MGT523', 'MGT522', 'MGT532', 'MGT513', 'MGT621', 'TOD522', 'HRT512', 'MGT121', 'ECO280', 'COM202', 'FAC104', 'FAC512', 'FAC534', 'MGT521', 'MKT501', 'FAC633', 'EFB512', 'MGT511', 'MGT111', 'EFB101', 'TOD221', 'ECO544', 'TOD526', 'EFB502', 'EFB511', 'MGT628', 'FAC124', 'COM100', 'COM102', 'HRT511', 'HRT531', 'EFB508', 'TOD504', 'COM501', 'MGT505', 'MGT504', 'ECO500', 'COM507', 'FAC513', 'TOD512', 'ECO581', 'MAT142', 'COM109', 'COM701', 'INS511', 'FAC217', 'MGT311', 'ENV601', 'INS514', 'MKT103', 'STA101', 'EFB608', 'TOD501', 'RES601', 'FAC215', 'STA100', 'ECO212', 'COM121', 'ECO200', 'ECO503', 'ECO250', 'ECO550', 'ENV210', 'FAC311', 'HRT533', 'MGT509', 'MAT000', 'COM000', 'TOD000', 'MKT601', 'DES201', 'DES103', 'DES202', 'DES203', 'COM212', 'TOD326', 'TOD210', 'TOD322', 'ECO201', 'EFB602', 'ECO510', 'MKT321', 'TOD333', 'ECO507', 'CDC500', 'MGT515', 'ECO203', 'DES232', 'MGT741', 'ENV502', 'MGT711', 'FAC121', 'MGT341', 'FAC114', 'COM201', 'ECO220', 'FAC241', 'MGT524', 'MGT112', 'MKT324', 'MKT653', 'MGT623', 'HRT504', 'ECO110', 'FAC245', 'MGT234', 'FAC112', 'MGT642', 'FAC499', 'MKT312', 'ECO501', 'ECO511', 'ENV501', 'PRJ679', 'FAC125', 'MKT352', 'MGT626', 'TOD531', 'INS512', 'FAC535', 'FAC635', 'MKT642', 'FAC133', 'XPM106', 'XMG103', 'XPR695', 'DES101', 'XOD102', 'TOD212', 'DES102', 'ECO699', 'TOD324', 'TOD310', 'TOD205', 'ECO300', 'ECO320', 'XPM107', 'ENV551', 'BIO544', 'BCS102', 'MUS101', 'MUS103', 'BIO790', 'SPS250', 'BIO554', 'PHY111', 'SPS102', 'PHY121', 'SPS103', 'BIO101', 'HST101', 'PHL115', 'PHL101', 'LIT105', 'SAN101', 'PER101', 'HST220', 'PSY210', 'MAT256', 'PHI120', 'SPS202', 'PHY112', 'BIO203', 'COM211', 'PHY701', 'PHY797', 'PHY221', 'PSY220', 'PSY161', 'BIO106', 'PHL301', 'PHY310', 'SPS300', 'PHY314', 'PHI200', 'SAN201', 'FRE111', 'SPA111', 'JAP111', 'RES101', 'MAN111', 'PSY280', 'BIO320', 'PHI110', 'PHY313', 'BIO205', 'PVA131', 'PSY252', 'IHS701', 'IHS501', 'SPS261', 'PHI235', 'JAP211', 'LIT220', 'PSY325', 'PHI340', 'PSY350', 'SPS264', 'PVA220', 'SPS400', 'MAT465', 'MAT565', 'SPS350', 'PVA123', 'PVA112', 'ETH201', 'BIO206', 'PHY733', 'ENV602', 'PHY410', 'SAS698', 'STA555', 'PHY798', 'PHI101', 'BIO200', 'BIO553', 'BIO211', 'BIO213', 'BIO600', 'BIO500', 'BIO310', 'PSY101', 'SPS258', 'CHY101', 'ECE503', 'ECE504', 'CSE340', 'ECE210', 'ECE209', 'MAT101', 'MAT500', 'CHE303', 'CSE516', 'ENR508', 'HRT221', 'CSE100', 'CSD100', 'CSD101', 'CSD102', 'CHY100', 'CSE205', 'CHE211', 'ENR203', 'ENR205', 'CSE518', 'MEC200', 'CHE212', 'MEC301', 'CHE311', 'ENR305', 'CSE524', 'MAT248', 'MEC302', 'CHE312', 'CSE332', 'CSE526', 'CSE525', 'ECE302', 'CHE508', 'MAT281', 'ENR481', 'ENR486', 'CSE543', 'CHE440', 'CSE540', 'CHE504', 'CHE300', 'CHE503', 'CSC201', 'CSE520', 'ECE502', 'ECE310', 'MEC510', 'THE670', 'ECE505', 'CSE300', 'THE671', 'THE672', 'THE673', 'CHE574', 'CSP511', 'CSP513', 'ENR852', 'ENR100', 'ENR101', 'CHE402', 'MEC403', 'MEC405', 'MAT203', 'ENR204', 'ENR303', 'ENR704', 'ENR705', 'FDP101', 'FDP102', 'FDP103']\n"
     ]
    }
   ],
   "source": [
    "textFile = open(\"course_directory.txt\",\"r\",encoding=\"utf8\")\n",
    "lines = textFile.readlines()\n",
    "courses = []\n",
    "\n",
    "for line in lines:\n",
    "\tif isCourseCode(line.split(\",\")[0]):\n",
    "\t\tcourses.append(line.split(\",\")[0])\n",
    "print(courses)\n"
   ]
  }
 ],
 "metadata": {
  "kernelspec": {
   "display_name": "Python 3.10.8 64-bit (microsoft store)",
   "language": "python",
   "name": "python3"
  },
  "language_info": {
   "codemirror_mode": {
    "name": "ipython",
    "version": 3
   },
   "file_extension": ".py",
   "mimetype": "text/x-python",
   "name": "python",
   "nbconvert_exporter": "python",
   "pygments_lexer": "ipython3",
   "version": "3.10.8"
  },
  "orig_nbformat": 4,
  "vscode": {
   "interpreter": {
    "hash": "65a440aeac0c89e2af7569e0aa53b64434c4b69eb6285e2b0d174d9bca190d54"
   }
  }
 },
 "nbformat": 4,
 "nbformat_minor": 2
}
