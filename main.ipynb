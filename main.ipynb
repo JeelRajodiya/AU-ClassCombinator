{
 "cells": [
  {
   "cell_type": "code",
   "execution_count": 1,
   "metadata": {},
   "outputs": [
    {
     "name": "stderr",
     "output_type": "stream",
     "text": [
      "\n",
      "KeyboardInterrupt\n",
      "\n"
     ]
    }
   ],
   "source": [
    "# # creating a large table\n",
    "# import sqlite3 as sql\n",
    "\n",
    "# conn = sql.connect('test.db')\n",
    "# c = conn.cursor()\n",
    "# c.execute('CREATE TABLE IF NOT EXISTS test (id INTEGER PRIMARY KEY, name TEXT, age INTEGER, address TEXT, salary REAL)')\n",
    "# # 100000000 4.7G (4m 41s)\n",
    "# for i in range(100000):\n",
    "# \tc.execute('INSERT INTO test VALUES (?, ?, ?, ?, ?)', (i, 'name'+str(i), i, 'address'+str(i), i*1000))\n",
    "# conn.commit()\n",
    "# conn.close()\n"
   ]
  },
  {
   "cell_type": "code",
   "execution_count": 2,
   "metadata": {},
   "outputs": [],
   "source": [
    "from bs4 import BeautifulSoup\n",
    "htmlFile = open(\"course_directory_winter.html\",\"r\",encoding=\"utf8\")\n",
    "html = htmlFile.read()\n"
   ]
  },
  {
   "cell_type": "code",
   "execution_count": 3,
   "metadata": {},
   "outputs": [],
   "source": [
    "# parsing the html \n",
    "# dumping the data into a txt file\n",
    "\n",
    "soup = BeautifulSoup(html, 'html.parser')\n",
    "soup.prettify()\n",
    "tds = soup.find_all('td')\n",
    "for td in tds:\n",
    "\tif td.text.strip() !=\"\\n\":\n",
    "\t\ttextFile.write(td.get_text(separator=\",\")+\"\\n\")\n",
    "\n",
    "\n"
   ]
  },
  {
   "cell_type": "code",
   "execution_count": 1,
   "metadata": {},
   "outputs": [],
   "source": [
    "textFile = open(\"course_directory_winter.txt\",\"r\",encoding=\"utf8\")\n",
    "lines = textFile.readlines()\n",
    "\n"
   ]
  },
  {
   "cell_type": "code",
   "execution_count": 2,
   "metadata": {},
   "outputs": [],
   "source": [
    "# first three letters of a course code are characters and the rest are numbers\n",
    "def isCourseCode(string):\n",
    "\tstring = string.replace(\" \",\"\")\n",
    "\tif len(string) == 6 and string[:3].isalpha() and string[3:].isdigit():\n",
    "\t\treturn True\n",
    "\t\n",
    "\treturn False"
   ]
  },
  {
   "cell_type": "code",
   "execution_count": 3,
   "metadata": {},
   "outputs": [
    {
     "name": "stdout",
     "output_type": "stream",
     "text": [
      "283 Course found!\n"
     ]
    }
   ],
   "source": [
    "textFile = open(\"course_directory_winter.txt\",\"r\",encoding=\"utf8\")\n",
    "courses = []\n",
    "\n",
    "for line in lines:\n",
    "\tif isCourseCode(line.split(\",\")[0]):\n",
    "\t\tcourses.append(line.split(\",\")[0])\n",
    "# monsoon 329/331 course found\n",
    "# winter 283/282\n",
    "print(len(courses), \"Course found!\")\n",
    "# print(courses)\n"
   ]
  },
  {
   "cell_type": "code",
   "execution_count": 4,
   "metadata": {},
   "outputs": [],
   "source": [
    "# jsondict= []\n",
    "courseArray=[]\n",
    "course = \"\"\n",
    "flag = True\n",
    "for line in lines:\n",
    "\tline = line.replace(\"\\t\", \"\")\n",
    "\tif isCourseCode(line.split(\",\")[0]):\n",
    "\t\t# courseArray.append(line.split(\",\")[0])\n",
    "\t\tcourseArray.append(course)\n",
    "\t\tcourse= \"\"\n",
    "\tcourse+=line\n",
    "# print(courseArray)\n",
    "\n",
    "\n",
    "\n"
   ]
  },
  {
   "cell_type": "code",
   "execution_count": 5,
   "metadata": {},
   "outputs": [],
   "source": [
    "courseArray = list(filter(lambda a: a.replace(\" \",\"\")!=\"\",courseArray))\n",
    "def detectType(s:str):\n",
    "\tDays = [\"Mon\", \"Tue\",\"Wed\",\"Thu\",\"Fri\",\"Sat\",\"Sun\"]\n",
    "\tif s == \"Section\":\n",
    "\t\treturn \"Section\"\n",
    "\telif s in Days:\n",
    "\t\treturn \"Day\"\n",
    "\telif \"-\" in s:\n",
    "\t\treturn \"Date\"\n",
    "\telif \":\" in s:\n",
    "\t\treturn \"Time\"\n",
    "\telif s == \"to\":\n",
    "\t\treturn \"To\"\n",
    "\telif s.isdigit():\n",
    "\t\treturn \"Section No.\"\n",
    "\telse:\n",
    "\t\treturn \"Useless\""
   ]
  },
  {
   "cell_type": "code",
   "execution_count": 8,
   "metadata": {},
   "outputs": [],
   "source": [
    "import re\n",
    "lines = []\n",
    "Code = ''\n",
    "Level = ''\n",
    "Name = ''\n",
    "isBiSem = ''\n",
    "Credits = ''\n",
    "Faculties = ''\n",
    "Semester = ''\n",
    "Prerequisite = ''\n",
    "Description = ''\n",
    "Sections = {}\n",
    "SectionDict = {}\n",
    "DayArray = [[],[]]\n",
    "TimeArray = []\n",
    "DateArray = []\n",
    "activeSection = ''\n",
    "activeDay = ''\n",
    "\n",
    "oneCourseJson = {};\n",
    "finalJson = []\n",
    "for course in courseArray:\n",
    "\tCode = ''\n",
    "\tLevel = ''\n",
    "\tName = ''\n",
    "\tisBiSem = ''\n",
    "\tCredits = ''\n",
    "\tFaculties = ''\n",
    "\tSemester = ''\n",
    "\tPrerequisite = ''\n",
    "\tDescription = ''\n",
    "\tSections = {}\n",
    "\tSectionDict = {}\n",
    "\tDayArray = [[],[]]\n",
    "\tTimeArray = []\n",
    "\tDateArray = []\n",
    "\tactiveSection = ''\n",
    "\tactiveDay = ''\n",
    "\tlines = course.split(\"\\n\")\n",
    "\tlines = list(filter(lambda a: a.replace(\" \",\"\")!=\"\",    lines))\n",
    "\n",
    "\t# print(lines)\n",
    "\tCode = lines[0].split(\",\")[0]\n",
    "\tLevel = lines[0].split(\",\")[1]\n",
    "\tLevel = Level.strip(\" \").strip(\"[\").strip(\"]\")\n",
    "\tName = lines[1]\n",
    "\tCredits = lines[2]\n",
    "\tFaculties = lines[3].split(\",\")\n",
    "\tSemester = lines[4]\n",
    "\tif Faculties[0] == \"Not added\":\n",
    "\t\tcontinue\n",
    "\tif lines[5].split(\",\")[0] == \"PREQ_OR\":\n",
    "\t\tPrerequisite = lines[5].split(\",\")[1]\n",
    "\t\tn = 5\n",
    "\n",
    "\t\t\n",
    "\telse:\n",
    "\t\tPrerequisite = None\n",
    "\t\tn = 4\n",
    "\tDescription = lines[n+1]\n",
    "\tfor i in lines[n+2:]:\n",
    "\t\ti = i.strip(\",\")\n",
    "\t\ti = i.replace(\" \",\",\")\n",
    "\t\ti = i.split(\",\")\n",
    "\n",
    "\t\ti = list(filter(lambda a: a!=\"Quarter]\",i))\n",
    "\t\ti = list(filter(lambda a: a!=\"[First\",i))\n",
    "\t\ti = list(filter(lambda a: a!=\"[Second\",i))\n",
    "\t\ti = list(filter(lambda a: len(a )!=0,i))\n",
    "\t\ti = list(map(lambda a: a.replace(\"[\",\"\"),i))\n",
    "\t\ti = list(map(lambda a: a.replace(\"]\",\"\"),i))\n",
    "\t\ti = list(map(lambda a: a.strip(\",\"),i))\n",
    "\t\t# print(i)\n",
    "\t\ttry: \n",
    "\t\t\tfor j in i:\n",
    "\t\t\t\ttypeOfJ = detectType(j)\n",
    "\t\t\t\t# print(j,typeOfJ)\n",
    "\t\t\t\tif typeOfJ == \"Section No.\":\n",
    "\t\t\t\t\tactiveSection = j\n",
    "\t\t\t\t\tSections[j] = {}\n",
    "\t\t\t\t\n",
    "\t\t\t\telif typeOfJ == \"Day\":\n",
    "\t\t\t\t\tactiveDay = j\n",
    "\t\t\t\t\tif Sections[activeSection].get(activeDay) == None:\n",
    "\t\t\t\t\t\tSections[activeSection][activeDay] = [[],[]]\n",
    "\t\t\t\t\t# Sections[activeSection][activeDay] = [[],[]]\n",
    "\t\t\t\telif typeOfJ == \"Time\":\n",
    "\t\t\t\t\tif Sections[activeSection][activeDay][0].count(j) == 0:\n",
    "\t\t\t\t\t\tSections[activeSection][activeDay][0].append(j)\n",
    "\t\t\t\t\t# Sections[activeSection][activeDay][0].append(j)\n",
    "\t\t\t\telif typeOfJ == \"Date\":\n",
    "\t\t\t\t\tif Sections[activeSection][activeDay][1].count(j) == 0:\n",
    "\t\t\t\t\t\tSections[activeSection][activeDay][1].append(j)\n",
    "\t\t\t\telif typeOfJ == \"To\":\n",
    "\t\t\t\t\tpass\n",
    "\t\t\t\telif typeOfJ == \"Useless\":\n",
    "\t\t\t\t\tpass\n",
    "\t\texcept:\n",
    "\t\t\tpass\n",
    "\t\t   \n",
    "\t# print(Sections)\n",
    "\n",
    "\toneCourseJson = {\n",
    "\t\t\"Code\":Code,\n",
    "\t\t\"Level\":Level,\n",
    "\t\t\"Name\":Name,\n",
    "\t\t\"Credits\":Credits,\n",
    "\t\t\"Faculties\":Faculties,\n",
    "\t\t\"Semester\":Semester,\n",
    "\t\t\"Prerequisite\":Prerequisite,\n",
    "\t\t\"Description\":Description,\n",
    "\t\t\"Sections\":Sections\n",
    "\t}\n",
    "\tfinalJson.append(oneCourseJson)\n",
    "\n",
    "import json\n",
    "with open('winter.json', 'w') as outfile:\n",
    "\tjson.dump(finalJson, outfile, indent=4)\n",
    "\n",
    "\n",
    "\n",
    "\t\n",
    "\n",
    "\n",
    "\t# print(lines[5], lines[6],12)\n",
    "\t# print(Code, Level, Name, Credits, Faculties,Semester, Prerequisite, Description)"
   ]
  }
 ],
 "metadata": {
  "kernelspec": {
   "display_name": "Python 3.10.8 64-bit (microsoft store)",
   "language": "python",
   "name": "python3"
  },
  "language_info": {
   "codemirror_mode": {
    "name": "ipython",
    "version": 3
   },
   "file_extension": ".py",
   "mimetype": "text/x-python",
   "name": "python",
   "nbconvert_exporter": "python",
   "pygments_lexer": "ipython3",
   "version": "3.10.10"
  },
  "orig_nbformat": 4,
  "vscode": {
   "interpreter": {
    "hash": "65a440aeac0c89e2af7569e0aa53b64434c4b69eb6285e2b0d174d9bca190d54"
   }
  }
 },
 "nbformat": 4,
 "nbformat_minor": 2
}
