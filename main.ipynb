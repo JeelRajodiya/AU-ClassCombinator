{
 "cells": [
  {
   "cell_type": "code",
   "execution_count": 1,
   "metadata": {},
   "outputs": [
    {
     "name": "stderr",
     "output_type": "stream",
     "text": [
      "\n",
      "KeyboardInterrupt\n",
      "\n"
     ]
    }
   ],
   "source": [
    "# # creating a large table\n",
    "# import sqlite3 as sql\n",
    "\n",
    "# conn = sql.connect('test.db')\n",
    "# c = conn.cursor()\n",
    "# c.execute('CREATE TABLE IF NOT EXISTS test (id INTEGER PRIMARY KEY, name TEXT, age INTEGER, address TEXT, salary REAL)')\n",
    "# # 100000000 4.7G (4m 41s)\n",
    "# for i in range(100000):\n",
    "# \tc.execute('INSERT INTO test VALUES (?, ?, ?, ?, ?)', (i, 'name'+str(i), i, 'address'+str(i), i*1000))\n",
    "# conn.commit()\n",
    "# conn.close()\n"
   ]
  },
  {
   "cell_type": "code",
   "execution_count": 2,
   "metadata": {},
   "outputs": [],
   "source": [
    "from bs4 import BeautifulSoup\n",
    "htmlFile = open(\"course_directory_winter.html\",\"r\",encoding=\"utf8\")\n",
    "html = htmlFile.read()\n"
   ]
  },
  {
   "cell_type": "code",
   "execution_count": 3,
   "metadata": {},
   "outputs": [],
   "source": [
    "# parsing the html \n",
    "# dumping the data into a txt file\n",
    "\n",
    "soup = BeautifulSoup(html, 'html.parser')\n",
    "soup.prettify()\n",
    "tds = soup.find_all('td')\n",
    "for td in tds:\n",
    "\tif td.text.strip() !=\"\\n\":\n",
    "\t\ttextFile.write(td.get_text(separator=\",\")+\"\\n\")\n",
    "\n",
    "\n"
   ]
  },
  {
   "cell_type": "code",
   "execution_count": 4,
   "metadata": {},
   "outputs": [],
   "source": [
    "textFile = open(\"course_directory_winter.txt\",\"r\",encoding=\"utf8\")\n",
    "lines = textFile.readlines()\n",
    "\n"
   ]
  },
  {
   "cell_type": "code",
   "execution_count": 2,
   "metadata": {},
   "outputs": [],
   "source": [
    "# first three letters of a course code are characters and the rest are numbers\n",
    "def isCourseCode(string):\n",
    "\tstring = string.replace(\" \",\"\")\n",
    "\tif len(string) == 6 and string[:3].isalpha() and string[3:].isdigit():\n",
    "\t\treturn True\n",
    "\t\n",
    "\treturn False"
   ]
  },
  {
   "cell_type": "code",
   "execution_count": 5,
   "metadata": {},
   "outputs": [
    {
     "name": "stdout",
     "output_type": "stream",
     "text": [
      "283 Course found!\n",
      "['COM101', 'FAC331', 'MGT136', 'MKT341', 'MKT611', 'MKT631', 'FAC641', 'TOD522', 'MGT121', 'ECO340', 'FAC104', 'FAC632', 'MGT624', 'HRT571', 'FAC244', 'EFB101', 'TOD221', 'TOD526', 'EFB203', 'HRT612', 'EFB502', 'FAC124', 'COM100', 'COM102', 'EFB508', 'MGT562', 'FAC332', 'TOD524', 'MGT542', 'COM502', 'MGT533', 'MGT543', 'ECO543', 'MAT142', 'COM109', 'COM701', 'FAC217', 'ECO520', 'MGT311', 'TOD533', 'MGT536', 'HRT632', 'INS515', 'ECO620', 'MKT103', 'STA101', 'MGT508', 'EFB608', 'FAC215', 'STA100', 'ENV555', 'FAC637', 'ECO502', 'HRT561', 'EFB609', 'TOD323', 'MGT545', 'ENV333', 'FAC533', 'MKT671', 'ECO213', 'HRT512', 'DES201', 'DES103', 'ENV533', 'DES202', 'DES203', 'COM212', 'TOD326', 'TOD210', 'TOD322', 'ECO504', 'ECO204', 'EFB602', 'MKT321', 'TOD331', 'DES301', 'ECO521', 'DES232', 'ENV591', 'FAC335', 'FAC121', 'MGT341', 'FAC114', 'COM114', 'HRT542', 'FAC631', 'FAC213', 'FAC241', 'MGT112', 'ECO330', 'MKT641', 'MKT652', 'MKT653', 'MGT622', 'MGT625', 'HRT699', 'MGT627', 'ECO110', 'FAC245', 'MGT236', 'FAC223', 'EFB202', 'MGT642', 'INT574', 'FAC216', 'HRT502', 'MKT312', 'TOD503', 'ECO501', 'PRJ679', 'FAC125', 'MGT238', 'INT572', 'HRT622', 'HRT623', 'HRT212', 'INS521', 'EFB509', 'FAC635', 'MKT642', 'FAC133', 'DES101', 'ECO540', 'TOD212', 'DES102', 'ECO699', 'TOD310', 'TOD205', 'ECO320', 'TOD499', 'EFB499', 'FAC499', 'MGT499', 'MKT499', 'BPS103', 'BIO104', 'HST205', 'MUS101', 'MUS103', 'BIO790', 'HST210', 'PHY122', 'BIO 250', 'PHY797', 'PHY211', 'SPS260', 'SPS203', 'PHY212', 'SAN102', 'PSY215', 'SPS205', 'LIT210', 'PSY272', 'HST103', 'SPS560', 'BIO204', 'PHL150', 'CHY101', 'PHI175', 'RES101', 'RES501', 'BIO105', 'JAP112', 'BIO506', 'PSY321', 'SPS 301', 'SPS263', 'PHY315', 'STA 202', 'FRE112', 'PSY340', 'SAN202', 'PVA 171', 'PVA 151', 'BIO507', 'PSY205', 'IHS 801', 'IHS 802', 'IHS 810', 'JAP212', 'SPA112', 'BIO 107', 'BIO260', 'SPS500', 'BIO210', 'PHL 202', 'PSY512', 'PHL401', 'BIO 791', 'FRE212', 'GER112', 'PER102', 'LIT205', 'PHY316', 'PVA128', 'PVA129', 'PVA101', 'PVA222', 'PVA224', 'PVA203', 'PVA 225', 'MAT 334', 'PHY715', 'PSY351', 'LIT230', 'SPS505', 'IHS502', 'HST499', 'PHL499', 'PSY499', 'SPS499', 'CSC499', 'PHY499', 'BIO548', 'BIO201', 'BIO220', 'BIO601', 'BIO103', 'BIO502', 'SAS699', 'HST115', 'CHE201', 'ENR508', 'CSE108', 'CSE517', 'CSE519', 'MEC205', 'MEC206', 'CSE200', 'MAT277', 'ENR200', 'CSE206', 'ENR102', 'ENR510', 'MEC303', 'MEC304', 'CHE313', 'MAT248', 'MEC300', 'CHE314', 'CSE342', 'MEC514', 'CSE533', 'MAT396', 'CSE537', 'CHE306', 'ENR306', 'MAT596', 'CSE543', 'CHE400', 'CHE301', 'CSE541', 'CHE204', 'ENR501', 'CHE221', 'CSE511', 'CSE250', 'CSE523', 'ENR506', 'CSE521', 'MAT502', 'CSE542', 'THE674', 'THE675', 'THE676', 'THE677', 'THE699', 'CHE574', 'CSP514', 'CHE851', 'ENR852', 'ENR100', 'ENR101', 'MEC405', 'MEC503', 'ENR704', 'ENR705', 'FDP101', 'FDP102', 'FDP103', 'FDP104', 'VOL100']\n"
     ]
    }
   ],
   "source": [
    "textFile = open(\"course_directory_winter.txt\",\"r\",encoding=\"utf8\")\n",
    "courses = []\n",
    "\n",
    "for line in lines:\n",
    "\tif isCourseCode(line.split(\",\")[0]):\n",
    "\t\tcourses.append(line.split(\",\")[0])\n",
    "# monsoon 329/331 course found\n",
    "# winter 283/282\n",
    "print(len(courses), \"Course found!\")\n",
    "print(courses)\n"
   ]
  },
  {
   "cell_type": "code",
   "execution_count": null,
   "metadata": {},
   "outputs": [],
   "source": [
    "# jsondict= []\n",
    "courseArray=[]\n",
    "course = \"\"\n",
    "flag = True\n",
    "for line in lines:\n",
    "\tline = line.replace(\"\\t\", \"\")\n",
    "\tif isCourseCode(line.split(\",\")[0]):\n",
    "\t\t# courseArray.append(line.split(\",\")[0])\n",
    "\t\tcourseArray.append(course)\n",
    "\t\tcourse= \"\"\n",
    "\tcourse+=line\n",
    "print(courseArray)\n",
    "\n",
    "\n",
    "\n"
   ]
  },
  {
   "cell_type": "code",
   "execution_count": 30,
   "metadata": {},
   "outputs": [],
   "source": [
    "courseArray = list(filter(lambda a: a.replace(\" \",\"\")!=\"\",courseArray))"
   ]
  },
  {
   "cell_type": "code",
   "execution_count": 35,
   "metadata": {},
   "outputs": [],
   "source": [
    "\n",
    "lines = []\n",
    "Code = ''\n",
    "Level = ''\n",
    "Name = ''\n",
    "isBiSem = ''\n",
    "Credits = ''\n",
    "Faculties = ''\n",
    "Semester = ''\n",
    "Prerequisite = ''\n",
    "Description = ''\n",
    "for course in courseArray:\n",
    "    lines = course.split(\"\\n\")\n",
    "    lines = list(filter(lambda a: a.replace(\" \",\"\")!=\"\",    lines))\n",
    "\n",
    "    # print(lines)\n",
    "    Code = lines[0].split(\",\")[0]\n",
    "    Level = lines[0].split(\",\")[1]\n",
    "    Level = Level.strip(\" \").strip(\"[\").strip(\"]\")\n",
    "    Name = lines[1]\n",
    "    Credits = lines[2]\n",
    "    Faculties = lines[3].split(\",\")\n",
    "    Semester = lines[4]\n",
    "    if Faculties[0] == \"Not added\":\n",
    "        continue\n",
    "    if lines[5].split(\",\")[0] == \"PREQ_OR\":\n",
    "        Prerequisite = lines[5].split(\",\")[1]\n",
    "        Description = lines[6]\n",
    "        for i in lines[7:]:\n",
    "            i = i.strip(\",\")\n",
    "            # i = i.split()\n",
    "            i = i.split(r',| ')\n",
    "\n",
    "            i = list(filter(lambda a: a!=\"Quarter]\",i))\n",
    "            i = list(filter(lambda a: a!=\"[First\",i))\n",
    "            i = list(filter(lambda a: a!=\"[Second\",i))\n",
    "            # if 'Section' in i:\n",
    "            if i.count(\"Section\") != 0:\n",
    "\n",
    "                pass\n",
    "                print(i)\n",
    "        # print(lines[8])\n",
    "    else:\n",
    "        Prerequisite = None\n",
    "        Description = lines[5]\n",
    "        for i in lines[6:]:\n",
    "            i = i.strip(\",\")\n",
    "            i = i.split(',')\n",
    "\n",
    "            i = list(filter(lambda a: a!=\"Quarter]\",i))\n",
    "            i = list(filter(lambda a: a!=\"[First\",i))\n",
    "            i = list(filter(lambda a: a!=\"[Second\",i))\n",
    "\n",
    "\n",
    "            if i.count(\"Section\") != 0:\n",
    "                print(i)\n",
    "                # pass\n",
    "            # else:\n",
    "                # print(i)\n",
    "        # print(lines[7])\n",
    "\n",
    "\n",
    "    \n",
    "\n",
    "\n",
    "    # print(lines[5], lines[6],12)\n",
    "    # print(Code, Level, Name, Credits, Faculties,Semester, Prerequisite, Description)"
   ]
  }
 ],
 "metadata": {
  "kernelspec": {
   "display_name": "Python 3",
   "language": "python",
   "name": "python3"
  },
  "language_info": {
   "codemirror_mode": {
    "name": "ipython",
    "version": 3
   },
   "file_extension": ".py",
   "mimetype": "text/x-python",
   "name": "python",
   "nbconvert_exporter": "python",
   "pygments_lexer": "ipython3",
   "version": "3.10.10 (tags/v3.10.10:aad5f6a, Feb  7 2023, 17:20:36) [MSC v.1929 64 bit (AMD64)]"
  },
  "orig_nbformat": 4,
  "vscode": {
   "interpreter": {
    "hash": "825cbdc922d9fd639529049cf2d5a103fbf9a4e254717cfd58fabeed7ed0147b"
   }
  }
 },
 "nbformat": 4,
 "nbformat_minor": 2
}
