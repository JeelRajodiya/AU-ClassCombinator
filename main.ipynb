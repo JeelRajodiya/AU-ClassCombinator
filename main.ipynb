{
 "cells": [
  {
   "cell_type": "code",
   "execution_count": 1,
   "metadata": {},
   "outputs": [
    {
     "name": "stderr",
     "output_type": "stream",
     "text": [
      "\n",
      "KeyboardInterrupt\n",
      "\n"
     ]
    }
   ],
   "source": [
    "# # creating a large table\n",
    "# import sqlite3 as sql\n",
    "\n",
    "# conn = sql.connect('test.db')\n",
    "# c = conn.cursor()\n",
    "# c.execute('CREATE TABLE IF NOT EXISTS test (id INTEGER PRIMARY KEY, name TEXT, age INTEGER, address TEXT, salary REAL)')\n",
    "# # 100000000 4.7G (4m 41s)\n",
    "# for i in range(100000):\n",
    "# \tc.execute('INSERT INTO test VALUES (?, ?, ?, ?, ?)', (i, 'name'+str(i), i, 'address'+str(i), i*1000))\n",
    "# conn.commit()\n",
    "# conn.close()\n"
   ]
  },
  {
   "cell_type": "code",
   "execution_count": 2,
   "metadata": {},
   "outputs": [],
   "source": [
    "from bs4 import BeautifulSoup\n",
    "htmlFile = open(\"course _directory.html\",\"r\",encoding=\"utf8\")\n",
    "html = htmlFile.read()\n"
   ]
  },
  {
   "cell_type": "code",
   "execution_count": 3,
   "metadata": {},
   "outputs": [],
   "source": [
    "soup = BeautifulSoup(html, 'html.parser')\n",
    "soup.prettify()\n",
    "tds = soup.find_all('td')\n",
    "textFile = open(\"course_directory.txt\",\"a\",encoding=\"utf8\")\n",
    "for td in tds:\n",
    "\tif td.text.strip() !=\"\\n\":\n",
    "\t\ttextFile.write(td.get_text(separator=\",\")+\"\\n\")\n",
    "\n",
    "\n"
   ]
  }
 ],
 "metadata": {
  "kernelspec": {
   "display_name": "Python 3.10.8 64-bit (microsoft store)",
   "language": "python",
   "name": "python3"
  },
  "language_info": {
   "codemirror_mode": {
    "name": "ipython",
    "version": 3
   },
   "file_extension": ".py",
   "mimetype": "text/x-python",
   "name": "python",
   "nbconvert_exporter": "python",
   "pygments_lexer": "ipython3",
   "version": "3.10.8"
  },
  "orig_nbformat": 4,
  "vscode": {
   "interpreter": {
    "hash": "65a440aeac0c89e2af7569e0aa53b64434c4b69eb6285e2b0d174d9bca190d54"
   }
  }
 },
 "nbformat": 4,
 "nbformat_minor": 2
}
